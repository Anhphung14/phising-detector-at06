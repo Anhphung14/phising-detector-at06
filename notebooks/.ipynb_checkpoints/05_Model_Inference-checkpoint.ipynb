{
 "cells": [
  {
   "cell_type": "code",
   "execution_count": 3,
   "id": "f5ca3193-d6da-498e-aedd-b0ca5a008f4f",
   "metadata": {},
   "outputs": [
    {
     "name": "stdout",
     "output_type": "stream",
     "text": [
      "Đang tải lại mô hình và các thành phần đã lưu...\n",
      "Tải thành công!\n"
     ]
    }
   ],
   "source": [
    "# Cell 1: Import thư viện và Tải lại \"bộ não\"\n",
    "import joblib\n",
    "import classification_report\n",
    "import pandas as pd\n",
    "import os\n",
    "import numpy as np\n",
    "from scipy.sparse import hstack\n",
    "import re\n",
    "import string\n",
    "\n",
    "# --- ĐƯỜNG DẪN ĐẾN CÁC FILE ĐÃ LƯU ---\n",
    "model_folder = '../models'\n",
    "model_path = os.path.join(model_folder, 'xgboost_model.pkl')\n",
    "tfidf_path = os.path.join(model_folder, 'tfidf_vectorizer.pkl')\n",
    "numeric_cols_path = os.path.join(model_folder, 'numeric_features_cols.pkl')\n",
    "ohe_path = os.path.join(model_folder, 'one_hot_encoder.pkl')\n",
    "\n",
    "# --- TẢI LẠI CÁC THÀNH PHẦN ---\n",
    "print(\"Đang tải lại mô hình và các thành phần đã lưu...\")\n",
    "xgb_model_loaded = joblib.load(model_path)\n",
    "tfidf_loaded = joblib.load(tfidf_path)\n",
    "numeric_features_cols_loaded = joblib.load(numeric_cols_path)\n",
    "ohe_loaded = joblib.load(ohe_path)\n",
    "print(\"Tải thành công!\")"
   ]
  },
  {
   "cell_type": "code",
   "execution_count": 10,
   "id": "2a5a4e93-a795-4389-8b03-45561dac400b",
   "metadata": {},
   "outputs": [
    {
     "name": "stdout",
     "output_type": "stream",
     "text": [
      "Đã tải và chuẩn hóa bộ dữ liệu kiểm thử mới, gồm 17535 email.\n",
      "5 dòng đầu tiên của bộ dữ liệu mới:\n",
      "                                       text_combined  label\n",
      "0  disc uniformitarianism sex lang dick hudson ob...      0\n",
      "1  side galicismos galicismo spanish term names i...      0\n",
      "2  equistar deal tickets still available assist r...      0\n",
      "3  hello hot lil horny toy one dream open minded ...      1\n",
      "4  software incredibly low prices lower drapery s...      1\n",
      "\n",
      "Bắt đầu trích xuất đặc trưng cho bộ dữ liệu mới...\n",
      "Chuẩn bị dữ liệu kiểm thử mới hoàn tất!\n",
      "Dữ liệu kiểm thử cuối cùng có dạng (hàng, cột): (17535, 5056)\n"
     ]
    }
   ],
   "source": [
    "# Cell 2 (Phiên bản Sửa lỗi)\n",
    "\n",
    "# Tải bộ dữ liệu kiểm thử mới (đã có 2 cột 'text_combined' và 'label')\n",
    "test_df_new = pd.read_csv('../data/clear/my_cleaned_phishing_data.csv') \n",
    "# ^^ LƯU Ý: Đảm bảo bạn đang dùng đúng file. \n",
    "# Tôi đang dùng file mà chúng ta đã tạo ra trước đó.\n",
    "# Nếu bạn dùng file khác, hãy thay đổi tên file ở đây.\n",
    "\n",
    "# --- LÀM SẠCH VÀ CHUẨN HÓA DỮ LIỆU MỚI ---\n",
    "# 1. Kiểm tra và xử lý giá trị thiếu\n",
    "test_df_new.dropna(inplace=True)\n",
    "\n",
    "# 2. Đảm bảo cột label là số nguyên\n",
    "test_df_new['label'] = test_df_new['label'].astype(int)\n",
    "\n",
    "print(f\"Đã tải và chuẩn hóa bộ dữ liệu kiểm thử mới, gồm {len(test_df_new)} email.\")\n",
    "print(\"5 dòng đầu tiên của bộ dữ liệu mới:\")\n",
    "print(test_df_new.head())\n",
    "\n",
    "# --- ÁP DỤNG PIPELINE TRÍCH XUẤT ĐẶC TRƯNG ---\n",
    "# Bước này phải được thực hiện để tạo ra các cột mà mô hình mong đợi\n",
    "print(\"\\nBắt đầu trích xuất đặc trưng cho bộ dữ liệu mới...\")\n",
    "\n",
    "# Trích xuất đặc trưng thủ công từ cột 'text_combined'\n",
    "test_df_new['char_count'] = test_df_new['text_combined'].apply(len)\n",
    "test_df_new['word_count'] = test_df_new['text_combined'].apply(lambda x: len(x.split()))\n",
    "\n",
    "# Vì dữ liệu 2 cột không có thông tin gốc, chúng ta phải \"giả lập\" các cột còn lại\n",
    "test_df_new['urls'] = test_df_new['text_combined'].str.count('_url_') # Đếm từ token _url_\n",
    "test_df_new['day_of_week'] = 3 # Điền giá trị trung bình\n",
    "test_df_new['hour_of_day'] = 12 # Điền giá trị trung bình\n",
    "test_df_new['same_domain'] = 0 # Giả lập\n",
    "test_df_new['sender_domain'] = 'unknown' # Giả lập\n",
    "\n",
    "# --- BIẾN ĐỔI DỮ LIỆU THÀNH ĐỊNH DẠNG SỐ ---\n",
    "# a. Văn bản (DÙNG TFIDF ĐÃ LOAD)\n",
    "X_text_tfidf_new = tfidf_loaded.transform(test_df_new['text_combined'])\n",
    "\n",
    "# b. Số (DÙNG DANH SÁCH CỘT ĐÃ LOAD)\n",
    "X_numeric_new = test_df_new[numeric_features_cols_loaded].values\n",
    "\n",
    "# c. Danh mục (DÙNG OHE ĐÃ LOAD)\n",
    "X_categorical_new = ohe_loaded.transform(test_df_new[['sender_domain']])\n",
    "\n",
    "# Kết hợp lại\n",
    "X_final_new = hstack([X_text_tfidf_new, X_numeric_new, X_categorical_new]).tocsr()\n",
    "y_true_new = test_df_new['label'].values\n",
    "\n",
    "print(\"Chuẩn bị dữ liệu kiểm thử mới hoàn tất!\")\n",
    "print(f\"Dữ liệu kiểm thử cuối cùng có dạng (hàng, cột): {X_final_new.shape}\")"
   ]
  },
  {
   "cell_type": "code",
   "execution_count": 11,
   "id": "d6b94294-c673-4054-a770-38769b26e98e",
   "metadata": {},
   "outputs": [
    {
     "name": "stdout",
     "output_type": "stream",
     "text": [
      "--- Bắt đầu thực hiện dự đoán trên bộ dữ liệu mới ---\n",
      "--- Dự đoán hoàn tất! ---\n",
      "\n",
      "--- BÁO CÁO ĐÁNH GIÁ TRÊN BỘ DỮ LIỆU MỚI (CROSS-VALIDATION) ---\n"
     ]
    },
    {
     "ename": "NameError",
     "evalue": "name 'classification_report' is not defined",
     "output_type": "error",
     "traceback": [
      "\u001b[31m---------------------------------------------------------------------------\u001b[39m",
      "\u001b[31mNameError\u001b[39m                                 Traceback (most recent call last)",
      "\u001b[36mCell\u001b[39m\u001b[36m \u001b[39m\u001b[32mIn[11]\u001b[39m\u001b[32m, line 16\u001b[39m\n\u001b[32m     14\u001b[39m \u001b[38;5;28mprint\u001b[39m(\u001b[33m\"\u001b[39m\u001b[38;5;130;01m\\n\u001b[39;00m\u001b[33m--- BÁO CÁO ĐÁNH GIÁ TRÊN BỘ DỮ LIỆU MỚI (CROSS-VALIDATION) ---\u001b[39m\u001b[33m\"\u001b[39m)\n\u001b[32m     15\u001b[39m \u001b[38;5;66;03m# In ra các chỉ số Precision, Recall, F1-score\u001b[39;00m\n\u001b[32m---> \u001b[39m\u001b[32m16\u001b[39m report = \u001b[43mclassification_report\u001b[49m(y_true_new, predictions_new, target_names=[\u001b[33m'\u001b[39m\u001b[33mAn toàn (Safe)\u001b[39m\u001b[33m'\u001b[39m, \u001b[33m'\u001b[39m\u001b[33mLừa đảo (Phishing)\u001b[39m\u001b[33m'\u001b[39m])\n\u001b[32m     17\u001b[39m \u001b[38;5;28mprint\u001b[39m(report)\n\u001b[32m     19\u001b[39m \u001b[38;5;66;03m# 2. Vẽ ma trận nhầm lẫn để xem chi tiết lỗi\u001b[39;00m\n",
      "\u001b[31mNameError\u001b[39m: name 'classification_report' is not defined"
     ]
    }
   ],
   "source": [
    "# Cell 3: Thực hiện Kiểm thử và Phân tích Kết quả\n",
    "\n",
    "if 'X_final_new' in locals() and 'y_true_new' in locals():\n",
    "    print(\"--- Bắt đầu thực hiện dự đoán trên bộ dữ liệu mới ---\")\n",
    "    \n",
    "    # Dùng mô hình đã được huấn luyện để dự đoán trên \"đề thi mới\"\n",
    "    predictions_new = xgb_model_loaded.predict(X_final_new)\n",
    "    \n",
    "    print(\"--- Dự đoán hoàn tất! ---\")\n",
    "\n",
    "    # --- PHÂN TÍCH KẾT QUẢ ---\n",
    "    \n",
    "    # 1. Báo cáo đánh giá chi tiết\n",
    "    print(\"\\n--- BÁO CÁO ĐÁNH GIÁ TRÊN BỘ DỮ LIỆU MỚI (CROSS-VALIDATION) ---\")\n",
    "    # In ra các chỉ số Precision, Recall, F1-score\n",
    "    report = classification_report(y_true_new, predictions_new, target_names=['An toàn (Safe)', 'Lừa đảo (Phishing)'])\n",
    "    print(report)\n",
    "\n",
    "    # 2. Vẽ ma trận nhầm lẫn để xem chi tiết lỗi\n",
    "    cm_new = confusion_matrix(y_true_new, predictions_new)\n",
    "    \n",
    "    plt.figure(figsize=(10, 7))\n",
    "    sns.heatmap(cm_new, annot=True, fmt='d', cmap='Greens', \n",
    "                xticklabels=['Dự đoán An toàn', 'Dự đoán Lừa đảo'], \n",
    "                yticklabels=['Thực tế An toàn', 'Thực tế Lừa đảo'])\n",
    "    plt.xlabel('Nhãn Dự đoán', fontsize=12)\n",
    "    plt.ylabel('Nhãn Thực tế', fontsize=12)\n",
    "    plt.title('Ma trận Nhầm lẫn trên Bộ Dữ liệu Mới (Kiểm thử Chéo)', fontsize=14)\n",
    "    plt.show()\n",
    "\n",
    "else:\n",
    "    print(\"Dữ liệu kiểm thử mới (X_final_new) chưa được tạo. Vui lòng chạy Cell 2 trước.\")"
   ]
  },
  {
   "cell_type": "code",
   "execution_count": null,
   "id": "aab85c12-2e6c-4a6b-8fb7-f96b6f05e1d8",
   "metadata": {},
   "outputs": [],
   "source": []
  }
 ],
 "metadata": {
  "kernelspec": {
   "display_name": "Python 3 (ipykernel)",
   "language": "python",
   "name": "python3"
  },
  "language_info": {
   "codemirror_mode": {
    "name": "ipython",
    "version": 3
   },
   "file_extension": ".py",
   "mimetype": "text/x-python",
   "name": "python",
   "nbconvert_exporter": "python",
   "pygments_lexer": "ipython3",
   "version": "3.11.9"
  }
 },
 "nbformat": 4,
 "nbformat_minor": 5
}
