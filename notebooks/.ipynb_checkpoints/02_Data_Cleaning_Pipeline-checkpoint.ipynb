{
 "cells": [
  {
   "cell_type": "code",
   "execution_count": 17,
   "id": "ebdf3628-259b-4344-9e40-2466c6657397",
   "metadata": {},
   "outputs": [
    {
     "name": "stdout",
     "output_type": "stream",
     "text": [
      "--- Dữ liệu thô ban đầu ---\n",
      "                                            Email Text      Email Type\n",
      "NaN                                         Email Text      Email Type\n",
      "0.0  re : 6 . 1100 , disc : uniformitarianism , re ...      Safe Email\n",
      "1.0  the other side of * galicismos * * galicismo *...      Safe Email\n",
      "2.0  re : equistar deal tickets are you still avail...      Safe Email\n",
      "3.0  \\nHello I am your hot lil horny toy.\\n    I am...  Phishing Email\n",
      "\n",
      "Số lượng email ban đầu: 18651\n"
     ]
    }
   ],
   "source": [
    "import pandas as pd\n",
    "\n",
    "# Đọc dữ liệu thô\n",
    "# Chúng ta cần chỉ định tên cột vì file CSV thô có thể không có header\n",
    "df_raw = pd.read_csv('../data/raw/Phishing_Email.csv', header=None, names=['Email Text', 'Email Type'])\n",
    "\n",
    "print(\"--- Dữ liệu thô ban đầu ---\")\n",
    "print(df_raw.head())\n",
    "print(f\"\\nSố lượng email ban đầu: {len(df_raw)}\")"
   ]
  },
  {
   "cell_type": "code",
   "execution_count": 19,
   "id": "095cf990-8079-4aa7-8a38-c2dea26da7be",
   "metadata": {},
   "outputs": [
    {
     "name": "stdout",
     "output_type": "stream",
     "text": [
      "Số dòng bị thiếu dữ liệu trước khi xử lý: 16\n",
      "Đã xóa các dòng bị thiếu dữ liệu.\n",
      "\n",
      "Số dòng bị trùng lặp trước khi xử lý: 1096\n",
      "Đã xóa các dòng bị trùng lặp.\n",
      "Số dòng còn lại: 17539\n"
     ]
    }
   ],
   "source": [
    "# --- Xử lý giá trị thiếu (dropna) ---\n",
    "print(f\"Số dòng bị thiếu dữ liệu trước khi xử lý: {df_raw.isnull().sum().sum()}\")\n",
    "df_cleaned = df_raw.dropna().copy() # Dùng .copy() để tránh warning\n",
    "print(\"Đã xóa các dòng bị thiếu dữ liệu.\")\n",
    "\n",
    "# --- Loại bỏ dữ liệu trùng lặp (drop_duplicates) ---\n",
    "print(f\"\\nSố dòng bị trùng lặp trước khi xử lý: {df_cleaned.duplicated().sum()}\")\n",
    "df_cleaned.drop_duplicates(inplace=True)\n",
    "print(\"Đã xóa các dòng bị trùng lặp.\")\n",
    "print(f\"Số dòng còn lại: {len(df_cleaned)}\")"
   ]
  },
  {
   "cell_type": "code",
   "execution_count": 20,
   "id": "5a8b943a-62c0-4219-bb57-46ce9d41e59e",
   "metadata": {},
   "outputs": [
    {
     "name": "stderr",
     "output_type": "stream",
     "text": [
      "[nltk_data] Downloading package stopwords to\n",
      "[nltk_data]     C:\\Users\\ASUS\\AppData\\Roaming\\nltk_data...\n",
      "[nltk_data]   Package stopwords is already up-to-date!\n"
     ]
    },
    {
     "data": {
      "text/plain": [
       "True"
      ]
     },
     "execution_count": 20,
     "metadata": {},
     "output_type": "execute_result"
    }
   ],
   "source": [
    "import nltk\n",
    "nltk.download('stopwords')"
   ]
  },
  {
   "cell_type": "code",
   "execution_count": 21,
   "id": "46c5d5f0-b552-4ebd-9d8c-11af1fb428fd",
   "metadata": {},
   "outputs": [
    {
     "name": "stdout",
     "output_type": "stream",
     "text": [
      "Hàm preprocess_text đã sẵn sàng!\n"
     ]
    }
   ],
   "source": [
    "import re # Thư viện cho biểu thức chính quy (regular expressions)\n",
    "import string # Thư viện chứa các dấu câu\n",
    "# Có thể bạn cần tải stop words lần đầu\n",
    "# import nltk\n",
    "# nltk.download('stopwords')\n",
    "from nltk.corpus import stopwords\n",
    "\n",
    "# Lấy danh sách các từ dừng tiếng Anh\n",
    "stop_words = set(stopwords.words('english'))\n",
    "\n",
    "def preprocess_text(text):\n",
    "    # --- Chuyển thành chữ thường ---\n",
    "    text = text.lower()\n",
    "    \n",
    "    # --- Loại bỏ URLs ---\n",
    "    # Mẫu này sẽ tìm tất cả các link http, https, hoặc www\n",
    "    text = re.sub(r'https|http?://\\S+|www\\.\\S+', '', text)\n",
    "    \n",
    "    # --- Loại bỏ dấu câu ---\n",
    "    # string.punctuation chứa tất cả các dấu câu như '!\"#$%&\\'()*+,-./:;<=>?@[\\\\]^_`{|}~'\n",
    "    text = re.sub(f'[{re.escape(string.punctuation)}]', '', text)\n",
    "    \n",
    "    # # --- Loại bỏ số ---\n",
    "    # text = re.sub(r'\\d+', '', text)\n",
    "    \n",
    "    # --- (Tùy chọn) Loại bỏ stop words ---\n",
    "    # Tách câu thành các từ, sau đó chỉ giữ lại những từ không phải là stop word\n",
    "    words = text.split()\n",
    "    filtered_words = [word for word in words if word not in stop_words]\n",
    "    text = ' '.join(filtered_words)\n",
    "    \n",
    "    # --- Loại bỏ khoảng trắng thừa ---\n",
    "    text = ' '.join(text.split())\n",
    "    \n",
    "    return text\n",
    "\n",
    "print(\"Hàm preprocess_text đã sẵn sàng!\")"
   ]
  },
  {
   "cell_type": "code",
   "execution_count": 22,
   "id": "29c038a2-fcd4-404c-a8d5-89650bdda172",
   "metadata": {},
   "outputs": [
    {
     "name": "stdout",
     "output_type": "stream",
     "text": [
      "--- SO SÁNH TRƯỚC VÀ SAU KHI LÀM SẠCH ---\n",
      "\n",
      "EMAIL GỐC:\n",
      " make her beg you to give it to her everynight you too can please you and your partner so much better . and it doesn ' t take half a year like other solutions . if you don ' t trust me , trust the new york times , newsweek , time magazine , and the testemonials of many people all over the net . look , if anything else check out the site and see the facts for yourself its new , its safe ! its the most advanced penile enlargement solution ! it ' s 100 % guaranteed to enlarge your penis . 3 + inches magna - rx patch - click here the amazing , new magna rx patch is not available in any stores or on other websites . accept no imitations ! order your male enhancement patch now through this exclusive website offer and get a 1 - month supply free ! one small investment in yourself will last a lifetime ! - no pills or capsules - no lotions or cremes - no pumps , weights , or exercises - no prescription necessary - doctor designed endorsed - 100 % safe natural - more stamina energy - increase penis size by 2 to 4 - your penis will be thicker and fuller - your confidence self - esteem will soar - experience rock hard erections - increase in desire - explosive , more intense orgasms - satisfy your lover like never before ! - free male help e - book with all orders - free 1 month supply of magna - rx patch ' s - fast , discrete shipping click here for more information if you ' d rather use pills instead of a patch for the same results check this out no more emails\n",
      "\n",
      "EMAIL ĐÃ LÀM SẠCH:\n",
      " make beg give everynight please partner much better take half year like solutions trust trust new york times newsweek time magazine testemonials many people net look anything else check site see facts new safe advanced penile enlargement solution guaranteed enlarge penis inches magna rx patch click amazing new magna rx patch available stores websites accept imitations order male enhancement patch exclusive website offer get month supply free one small investment last lifetime pills capsules lotions cremes pumps weights exercises prescription necessary doctor designed endorsed safe natural stamina energy increase penis size penis thicker fuller confidence self esteem soar experience rock hard erections increase desire explosive intense orgasms satisfy lover like never free male help e book orders free month supply magna rx patch fast discrete shipping click information rather use pills instead patch results check emails\n"
     ]
    }
   ],
   "source": [
    "# Áp dụng hàm preprocess_text cho toàn bộ cột 'Email Text'\n",
    "# Quá trình này có thể mất một lúc tùy vào kích thước file\n",
    "df_cleaned['clean_text'] = df_cleaned['Email Text'].apply(preprocess_text)\n",
    "\n",
    "print(\"--- SO SÁNH TRƯỚC VÀ SAU KHI LÀM SẠCH ---\")\n",
    "\n",
    "# Lấy ra một email thô để làm ví dụ\n",
    "raw_example = df_cleaned['Email Text'].iloc[11] \n",
    "# iloc[11] là email có URL: \"URL: http://www.newsis....\"\n",
    "\n",
    "# Lấy ra email tương ứng đã được làm sạch\n",
    "cleaned_example = df_cleaned['clean_text'].iloc[11]\n",
    "\n",
    "print(\"\\nEMAIL GỐC:\\n\", raw_example)\n",
    "print(\"\\nEMAIL ĐÃ LÀM SẠCH:\\n\", cleaned_example)"
   ]
  },
  {
   "cell_type": "code",
   "execution_count": 27,
   "id": "d121dca1-f34a-44f3-bb94-391dac2e954e",
   "metadata": {},
   "outputs": [
    {
     "name": "stdout",
     "output_type": "stream",
     "text": [
      "--- DATAFRAME CUỐI CÙNG ĐÃ CHUẨN HÓA ---\n",
      "                                         text_combined  label\n",
      "0.0  disc uniformitarianism sex lang dick hudson ob...      0\n",
      "1.0  side galicismos galicismo spanish term names i...      0\n",
      "2.0  equistar deal tickets still available assist r...      0\n",
      "3.0  hello hot lil horny toy one dream open minded ...      1\n",
      "4.0  software incredibly low prices lower drapery s...      1\n",
      "\n",
      "Kiểm tra lại thông tin và kiểu dữ liệu:\n",
      "<class 'pandas.core.frame.DataFrame'>\n",
      "Index: 17538 entries, 0.0 to 18649.0\n",
      "Data columns (total 2 columns):\n",
      " #   Column         Non-Null Count  Dtype \n",
      "---  ------         --------------  ----- \n",
      " 0   text_combined  17538 non-null  object\n",
      " 1   label          17538 non-null  int64 \n",
      "dtypes: int64(1), object(1)\n",
      "memory usage: 411.0+ KB\n",
      "None\n"
     ]
    }
   ],
   "source": [
    "# Chuyển đổi cột 'Email Type' (dạng chữ) thành cột 'label' (dạng số 0 và 1)\n",
    "# 0 cho 'Safe Email', 1 cho 'Phishing Email'\n",
    "df_cleaned['label'] = df_cleaned['Email Type'].map({'Safe Email': 0, 'Phishing Email': 1})\n",
    "\n",
    "# Tạo DataFrame cuối cùng chỉ với 2 cột chúng ta cần\n",
    "final_df = df_cleaned[['clean_text', 'label']].copy()\n",
    "\n",
    "# Đổi tên cột 'clean_text' thành 'text_combined' để giống hệt file mẫu\n",
    "final_df.rename(columns={'clean_text': 'text_combined'}, inplace=True)\n",
    "\n",
    "# --- CHỈNH SỬA Ở ĐÂY ---\n",
    "# Chuyển đổi kiểu dữ liệu của cột 'label' từ float (1.0) sang integer (1)\n",
    "# Và loại bỏ các dòng có label là NaN (phát sinh nếu có giá trị 'Email Type' lạ)\n",
    "final_df.dropna(subset=['label'], inplace=True)\n",
    "final_df['label'] = final_df['label'].astype(int)\n",
    "# -------------------------\n",
    "\n",
    "print(\"--- DATAFRAME CUỐI CÙNG ĐÃ CHUẨN HÓA ---\")\n",
    "print(final_df.head())\n",
    "\n",
    "print(\"\\nKiểm tra lại thông tin và kiểu dữ liệu:\")\n",
    "print(final_df.info())\n",
    "\n",
    "\n",
    "# (Tùy chọn) Lưu DataFrame sạch này ra một file CSV mới\n",
    "# Đảm bảo thư mục 'clear' đã tồn tại trong thư mục 'data'\n",
    "final_df.to_csv('../data/clear/my_cleaned_phishing_data.csv', index=False)"
   ]
  },
  {
   "cell_type": "code",
   "execution_count": null,
   "id": "8d8e0a69-fc9b-48b9-bbb2-a16dd17fc68a",
   "metadata": {},
   "outputs": [],
   "source": []
  }
 ],
 "metadata": {
  "kernelspec": {
   "display_name": "Python 3 (ipykernel)",
   "language": "python",
   "name": "python3"
  },
  "language_info": {
   "codemirror_mode": {
    "name": "ipython",
    "version": 3
   },
   "file_extension": ".py",
   "mimetype": "text/x-python",
   "name": "python",
   "nbconvert_exporter": "python",
   "pygments_lexer": "ipython3",
   "version": "3.11.9"
  }
 },
 "nbformat": 4,
 "nbformat_minor": 5
}
