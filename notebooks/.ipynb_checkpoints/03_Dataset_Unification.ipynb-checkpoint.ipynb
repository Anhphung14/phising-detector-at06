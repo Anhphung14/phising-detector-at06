{
 "cells": [
  {
   "cell_type": "code",
   "execution_count": 10,
   "id": "67d0dae0-df5a-48b1-a145-4b217f4e863b",
   "metadata": {},
   "outputs": [
    {
     "name": "stdout",
     "output_type": "stream",
     "text": [
      "Cell 1: Khai báo và cấu hình hoàn tất.\n"
     ]
    }
   ],
   "source": [
    "import pandas as pd\n",
    "import re\n",
    "import string\n",
    "import nltk\n",
    "import os\n",
    "\n",
    "# --- CẤU HÌNH ---\n",
    "# Thư mục chứa các file dữ liệu thô\n",
    "data_folder = '../data/dataForTrain' \n",
    "# Danh sách các file cần xử lý\n",
    "files_to_process = ['CEAS_08.csv', 'Nazario.csv', 'Nigerian_Fraud.csv', 'SpamAssasin.csv']\n",
    "\n",
    "print(\"Cell 1: Khai báo và cấu hình hoàn tất.\")"
   ]
  },
  {
   "cell_type": "code",
   "execution_count": 11,
   "id": "db9563d9-96bb-447b-a5c5-ddc4f5fc8069",
   "metadata": {},
   "outputs": [
    {
     "name": "stdout",
     "output_type": "stream",
     "text": [
      "Cell 2: Hàm 'combined_text_preprocessor' đã sẵn sàng.\n"
     ]
    }
   ],
   "source": [
    "# Tải tài nguyên 'stopwords' của NLTK nếu chưa có\n",
    "try:\n",
    "    from nltk.corpus import stopwords\n",
    "except LookupError:\n",
    "    print(\"Đang tải tài nguyên 'stopwords' của NLTK...\")\n",
    "    nltk.download('stopwords')\n",
    "    from nltk.corpus import stopwords\n",
    "\n",
    "# Lấy danh sách các từ dừng tiếng Anh\n",
    "stop_words = set(stopwords.words('english'))\n",
    "\n",
    "def combined_text_preprocessor(text):\n",
    "    \"\"\"\n",
    "    Hàm tiền xử lý văn bản tổng hợp:\n",
    "    - Chuyển thành chữ thường\n",
    "    - Thay thế URLs và Emails bằng token đặc biệt\n",
    "    - Loại bỏ dấu câu\n",
    "    - Loại bỏ stop words\n",
    "    - GIỮ LẠI SỐ\n",
    "    - Dọn dẹp khoảng trắng thừa\n",
    "    \"\"\"\n",
    "    if not isinstance(text, str):\n",
    "        return \"\"\n",
    "    \n",
    "    text = text.lower()\n",
    "    text = re.sub(r'https?://\\S+|www\\.\\S+', '_url_', text)\n",
    "    text = re.sub(r'\\b[A-Za-z0-9._%+-]+@[A-Za-z0-9.-]+\\.[A-Z|a-z]{2,}\\b', '_email_', text)\n",
    "    \n",
    "    punctuation = string.punctuation.replace(\"_\", \"\") # Giữ lại gạch dưới cho token\n",
    "    text = re.sub(f'[{re.escape(punctuation)}]', '', text)\n",
    "    \n",
    "    words = text.split()\n",
    "    filtered_words = [word for word in words if word not in stop_words and word]\n",
    "    text = ' '.join(filtered_words)\n",
    "    \n",
    "    return re.sub(r'\\s+', ' ', text).strip()\n",
    "\n",
    "print(\"Cell 2: Hàm 'combined_text_preprocessor' đã sẵn sàng.\")"
   ]
  },
  {
   "cell_type": "code",
   "execution_count": 12,
   "id": "5bf32ccf-e4b1-44b1-b8de-c3a621baa6a4",
   "metadata": {},
   "outputs": [
    {
     "name": "stdout",
     "output_type": "stream",
     "text": [
      "Bắt đầu quá trình đọc và hợp nhất 4 file...\n",
      "\n",
      "--- Đang xử lý file: CEAS_08.csv ---\n",
      "-> Đọc và làm sạch cơ bản thành công. Số dòng: 38669\n",
      "\n",
      "--- Đang xử lý file: Nazario.csv ---\n",
      "-> Đọc và làm sạch cơ bản thành công. Số dòng: 1467\n",
      "\n",
      "--- Đang xử lý file: Nigerian_Fraud.csv ---\n",
      "-> Đọc và làm sạch cơ bản thành công. Số dòng: 1572\n",
      "\n",
      "--- Đang xử lý file: SpamAssasin.csv ---\n",
      "-> Đọc và làm sạch cơ bản thành công. Số dòng: 5582\n",
      "\n",
      "--- Gộp 4 file thành công! ---\n",
      "Tổng số dòng trong bộ dữ liệu gốc: 47290\n",
      "Thông tin của Master DataFrame:\n",
      "<class 'pandas.core.frame.DataFrame'>\n",
      "RangeIndex: 47290 entries, 0 to 47289\n",
      "Data columns (total 7 columns):\n",
      " #   Column    Non-Null Count  Dtype \n",
      "---  ------    --------------  ----- \n",
      " 0   sender    47290 non-null  object\n",
      " 1   receiver  47290 non-null  object\n",
      " 2   date      47290 non-null  object\n",
      " 3   subject   47290 non-null  object\n",
      " 4   body      47290 non-null  object\n",
      " 5   label     47290 non-null  int64 \n",
      " 6   urls      47290 non-null  int64 \n",
      "dtypes: int64(2), object(5)\n",
      "memory usage: 2.5+ MB\n"
     ]
    }
   ],
   "source": [
    "# Cell 3: Đọc, Làm sạch Cơ bản và Hợp nhất 4 File\n",
    "\n",
    "all_dfs = [] # List để chứa các DataFrame tạm thời\n",
    "\n",
    "print(\"Bắt đầu quá trình đọc và hợp nhất 4 file...\")\n",
    "for file_name in files_to_process:\n",
    "    file_path = os.path.join(data_folder, file_name)\n",
    "    print(f\"\\n--- Đang xử lý file: {file_name} ---\")\n",
    "    try:\n",
    "        # --- THAY ĐỔI QUAN TRỌNG Ở ĐÂY ---\n",
    "        # Thêm encoding='latin1' để đọc file đúng bảng mã\n",
    "        df = pd.read_csv(file_path, encoding='latin1') \n",
    "        \n",
    "        # Làm sạch cơ bản\n",
    "        df.dropna(inplace=True)\n",
    "        df.drop_duplicates(inplace=True)\n",
    "        \n",
    "        all_dfs.append(df)\n",
    "        print(f\"-> Đọc và làm sạch cơ bản thành công. Số dòng: {len(df)}\")\n",
    "        \n",
    "    except FileNotFoundError:\n",
    "        print(f\"-> LỖI: Không tìm thấy file {file_path}. Bỏ qua.\")\n",
    "    except Exception as e:\n",
    "        print(f\"-> LỖI khi xử lý file {file_path}: {e}. Bỏ qua.\")\n",
    "\n",
    "if all_dfs:\n",
    "    master_df = pd.concat(all_dfs, ignore_index=True)\n",
    "    print(\"\\n--- Gộp 4 file thành công! ---\")\n",
    "    print(f\"Tổng số dòng trong bộ dữ liệu gốc: {len(master_df)}\")\n",
    "    print(\"Thông tin của Master DataFrame:\")\n",
    "    master_df.info()\n",
    "else:\n",
    "    print(\"\\nKhông có dữ liệu để xử lý. Vui lòng kiểm tra lại các file.\")"
   ]
  },
  {
   "cell_type": "code",
   "execution_count": 15,
   "id": "f0985270-e0e5-4a2b-8154-3d804049b576",
   "metadata": {},
   "outputs": [
    {
     "name": "stdout",
     "output_type": "stream",
     "text": [
      "--- Đang tạo Phiên bản 1 (Subject + Body) ---\n",
      "Áp dụng hàm tiền xử lý văn bản...\n",
      "-> Hoàn tất! Số dòng cuối cùng của Phiên bản 1: 42194\n",
      "5 dòng đầu tiên của Phiên bản 1:\n",
      "                                       text_combined  label\n",
      "0  never agree loser buck troubles caused small d...      1\n",
      "1  befriend jenna jameson upgrade sex pleasures t...      1\n",
      "2  cnncom daily top 10 daily top 10 cnncom top vi...      1\n",
      "3  svn commit r619753 spamassassintrunk libmailsp...      0\n",
      "4  specialpricespharmmoreinfo welcomefastshipping...      1\n"
     ]
    }
   ],
   "source": [
    "if 'master_df' in locals() and not master_df.empty:\n",
    "    print(\"--- Đang tạo Phiên bản 1 (Subject + Body) ---\")\n",
    "    \n",
    "    df_v1 = pd.DataFrame()\n",
    "    df_v1['text_combined'] = master_df['subject'].astype(str) + ' ' + master_df['body'].astype(str)\n",
    "    df_v1['label'] = master_df['label']\n",
    "    \n",
    "    print(\"Áp dụng hàm tiền xử lý văn bản...\")\n",
    "    df_v1['text_combined'] = df_v1['text_combined'].apply(combined_text_preprocessor)\n",
    "    \n",
    "    # Làm sạch cuối cùng\n",
    "    df_v1.drop_duplicates(subset=['text_combined'], inplace=True, keep='first')\n",
    "    df_v1.dropna(inplace=True)\n",
    "    df_v1['label'] = df_v1['label'].astype(int)\n",
    "\n",
    "    print(f\"-> Hoàn tất! Số dòng cuối cùng của Phiên bản 1: {len(df_v1)}\")\n",
    "    print(\"5 dòng đầu tiên của Phiên bản 1:\")\n",
    "    print(df_v1.head())\n",
    "else:\n",
    "    print(\"Master DataFrame chưa được tạo. Vui lòng chạy Cell 3 trước.\")"
   ]
  },
  {
   "cell_type": "code",
   "execution_count": 14,
   "id": "61ba3f75-8dc7-49f8-a158-418d24ccf70b",
   "metadata": {},
   "outputs": [
    {
     "name": "stdout",
     "output_type": "stream",
     "text": [
      "\n",
      "--- Đang tạo Phiên bản 2 (Tất cả các cột) ---\n",
      "Áp dụng hàm tiền xử lý văn bản...\n",
      "-> Hoàn tất! Số dòng cuối cùng của Phiên bản 2: 47275\n",
      "5 dòng đầu tiên của Phiên bản 2:\n",
      "                                       text_combined  label\n",
      "0  young esposito _email_ _email_ tue 05 aug 2008...      1\n",
      "1  mok ipline_email_ _email_ tue 05 aug 2008 1831...      1\n",
      "2  daily top 10 _email_ _email_ tue 05 aug 2008 2...      1\n",
      "3  michael parker _email_ spamassassin dev _email...      0\n",
      "4  gretchen suggs _email_ _email_ tue 05 aug 2008...      1\n"
     ]
    }
   ],
   "source": [
    "if 'master_df' in locals() and not master_df.empty:\n",
    "    print(\"\\n--- Đang tạo Phiên bản 2 (Tất cả các cột) ---\")\n",
    "    \n",
    "    df_v2 = pd.DataFrame()\n",
    "    # Các cột văn bản cần gộp\n",
    "    text_columns = ['sender', 'receiver', 'date', 'subject', 'body']\n",
    "    \n",
    "    df_v2['text_combined'] = master_df[text_columns].fillna('').astype(str).agg(' '.join, axis=1)\n",
    "    df_v2['label'] = master_df['label']\n",
    "\n",
    "    print(\"Áp dụng hàm tiền xử lý văn bản...\")\n",
    "    df_v2['text_combined'] = df_v2['text_combined'].apply(combined_text_preprocessor)\n",
    "\n",
    "    # Làm sạch cuối cùng\n",
    "    df_v2.drop_duplicates(subset=['text_combined'], inplace=True, keep='first')\n",
    "    df_v2.dropna(inplace=True)\n",
    "    df_v2['label'] = df_v2['label'].astype(int)\n",
    "\n",
    "    print(f\"-> Hoàn tất! Số dòng cuối cùng của Phiên bản 2: {len(df_v2)}\")\n",
    "    print(\"5 dòng đầu tiên của Phiên bản 2:\")\n",
    "    print(df_v2.head())\n",
    "else:\n",
    "    print(\"Master DataFrame chưa được tạo. Vui lòng chạy Cell 3 trước.\")"
   ]
  },
  {
   "cell_type": "code",
   "execution_count": 16,
   "id": "4bc6f804-c98a-42a6-b54c-67dd1e3c79ec",
   "metadata": {},
   "outputs": [
    {
     "name": "stdout",
     "output_type": "stream",
     "text": [
      "Đã lưu Phiên bản 1 vào: ../data/dataForTrain\\processed\\unified_dataset_v1_subject_body.csv\n",
      "Đã lưu Phiên bản 2 vào: ../data/dataForTrain\\processed\\unified_dataset_v2_all_text.csv\n"
     ]
    }
   ],
   "source": [
    "if 'df_v1' in locals() and 'df_v2' in locals():\n",
    "    # Tạo thư mục đầu ra nếu chưa có\n",
    "    output_folder = os.path.join(data_folder, 'processed')\n",
    "    os.makedirs(output_folder, exist_ok=True)\n",
    "    \n",
    "    # Lưu Phiên bản 1\n",
    "    output_path_v1 = os.path.join(output_folder, 'unified_dataset_v1_subject_body.csv')\n",
    "    df_v1.to_csv(output_path_v1, index=False)\n",
    "    print(f\"Đã lưu Phiên bản 1 vào: {output_path_v1}\")\n",
    "    \n",
    "    # Lưu Phiên bản 2\n",
    "    output_path_v2 = os.path.join(output_folder, 'unified_dataset_v2_all_text.csv')\n",
    "    df_v2.to_csv(output_path_v2, index=False)\n",
    "    print(f\"Đã lưu Phiên bản 2 vào: {output_path_v2}\")\n",
    "else:\n",
    "    print(\"Các DataFrame chưa được tạo. Vui lòng chạy Cell 4 và Cell 5 trước khi lưu.\")"
   ]
  },
  {
   "cell_type": "code",
   "execution_count": null,
   "id": "b9048bdc-1b23-4b79-8ea2-35f8d818e107",
   "metadata": {},
   "outputs": [],
   "source": []
  }
 ],
 "metadata": {
  "kernelspec": {
   "display_name": "Python 3 (ipykernel)",
   "language": "python",
   "name": "python3"
  },
  "language_info": {
   "codemirror_mode": {
    "name": "ipython",
    "version": 3
   },
   "file_extension": ".py",
   "mimetype": "text/x-python",
   "name": "python",
   "nbconvert_exporter": "python",
   "pygments_lexer": "ipython3",
   "version": "3.11.9"
  }
 },
 "nbformat": 4,
 "nbformat_minor": 5
}
