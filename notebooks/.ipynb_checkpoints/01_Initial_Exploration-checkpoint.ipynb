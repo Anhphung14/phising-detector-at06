{
 "cells": [
  {
   "cell_type": "code",
   "execution_count": 2,
   "id": "9144903d-fbbd-45e2-8624-b8c3ccb06004",
   "metadata": {},
   "outputs": [
    {
     "name": "stdout",
     "output_type": "stream",
     "text": [
      "5 dòng dữ liệu đầu tiên:\n",
      "                                       text_combined  label\n",
      "0  hpl nom may 25 2001 see attached file hplno 52...      0\n",
      "1  nom actual vols 24 th forwarded sabrae zajac h...      0\n",
      "2  enron actuals march 30 april 1 201 estimated a...      0\n",
      "3  hpl nom may 30 2001 see attached file hplno 53...      0\n",
      "4  hpl nom june 1 2001 see attached file hplno 60...      0\n",
      "\n",
      "Thông tin tổng quan:\n",
      "<class 'pandas.core.frame.DataFrame'>\n",
      "RangeIndex: 82486 entries, 0 to 82485\n",
      "Data columns (total 2 columns):\n",
      " #   Column         Non-Null Count  Dtype \n",
      "---  ------         --------------  ----- \n",
      " 0   text_combined  82486 non-null  object\n",
      " 1   label          82486 non-null  int64 \n",
      "dtypes: int64(1), object(1)\n",
      "memory usage: 1.3+ MB\n",
      "None\n",
      "\n",
      "Phân bổ các loại email:\n",
      "label\n",
      "1    42891\n",
      "0    39595\n",
      "Name: count, dtype: int64\n"
     ]
    }
   ],
   "source": [
    "import pandas as pd\n",
    "\n",
    "# Đọc dữ liệu từ file csv\n",
    "# File này đã được làm sạch sẵn, rất tốt!\n",
    "df = pd.read_csv('../data/phishing_email.csv')\n",
    "\n",
    "# In ra 5 dòng đầu tiên\n",
    "print(\"5 dòng dữ liệu đầu tiên:\")\n",
    "print(df.head())\n",
    "\n",
    "# In ra thông tin tổng quan\n",
    "print(\"\\nThông tin tổng quan:\")\n",
    "# Chú ý: Có thể có một cột 'Unnamed: 0', chúng ta có thể bỏ qua nó.\n",
    "print(df.info())\n",
    "\n",
    "# Đếm số lượng email an toàn (label=0) và lừa đảo (label=1)\n",
    "print(\"\\nPhân bổ các loại email:\")\n",
    "print(df['label'].value_counts())"
   ]
  },
  {
   "cell_type": "code",
   "execution_count": null,
   "id": "22d8f8fd-a03d-4387-8a8a-1e0b2267a85d",
   "metadata": {},
   "outputs": [],
   "source": [
    "from sklearn.feature_extraction.text import TfidfVectorizer\n",
    "from sklearn.model_selection import train_test_split\n",
    "\n",
    "# Xử lý các giá trị bị thiếu (nếu có)\n",
    "df.dropna(inplace=True)\n",
    "\n",
    "# Lấy cột 'text_combined' làm dữ liệu đầu vào (X)\n",
    "# Lấy cột 'label' làm \"đáp án\" (y)\n",
    "X = df['text_combined']\n",
    "y = df['label']\n",
    "\n",
    "# Chia dữ liệu: 80% để huấn luyện, 20% để kiểm thử\n",
    "X_train, X_test, y_train, y_test = train_test_split(X, y, test_size=0.2, random_state=42)\n",
    "\n",
    "# Tạo và sử dụng TfidfVectorizer\n",
    "tfidf_vectorizer = TfidfVectorizer()\n",
    "X_train_tfidf = tfidf_vectorizer.fit_transform(X_train)\n",
    "X_test_tfidf = tfidf_vectorizer.transform(X_test)\n",
    "\n",
    "print(\"Đã hoàn tất việc số hóa văn bản!\")\n",
    "print(\"Kích thước của dữ liệu huấn luyện sau khi số hóa:\", X_train_tfidf.shape)"
   ]
  },
  {
   "cell_type": "code",
   "execution_count": null,
   "id": "6c22f3ff-c176-4b8e-a330-6f8a0ac767e8",
   "metadata": {},
   "outputs": [],
   "source": []
  }
 ],
 "metadata": {
  "kernelspec": {
   "display_name": "Python 3 (ipykernel)",
   "language": "python",
   "name": "python3"
  },
  "language_info": {
   "codemirror_mode": {
    "name": "ipython",
    "version": 3
   },
   "file_extension": ".py",
   "mimetype": "text/x-python",
   "name": "python",
   "nbconvert_exporter": "python",
   "pygments_lexer": "ipython3",
   "version": "3.11.9"
  }
 },
 "nbformat": 4,
 "nbformat_minor": 5
}
