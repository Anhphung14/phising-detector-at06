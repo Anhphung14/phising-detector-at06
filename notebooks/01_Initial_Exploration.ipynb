{
 "cells": [
  {
   "cell_type": "code",
   "execution_count": 5,
   "id": "9144903d-fbbd-45e2-8624-b8c3ccb06004",
   "metadata": {},
   "outputs": [
    {
     "name": "stdout",
     "output_type": "stream",
     "text": [
      "Tải dữ liệu thành công!\n",
      "<class 'pandas.core.frame.DataFrame'>\n",
      "RangeIndex: 82486 entries, 0 to 82485\n",
      "Data columns (total 2 columns):\n",
      " #   Column         Non-Null Count  Dtype \n",
      "---  ------         --------------  ----- \n",
      " 0   text_combined  82486 non-null  object\n",
      " 1   label          82486 non-null  int64 \n",
      "dtypes: int64(1), object(1)\n",
      "memory usage: 1.3+ MB\n"
     ]
    }
   ],
   "source": [
    "import pandas as pd\n",
    "import re # Thư viện để xử lý biểu thức chính quy (loại bỏ ký tự đặc biệt)\n",
    "import string # Thư viện chứa các dấu câu\n",
    "\n",
    "# Tải dữ liệu\n",
    "df = pd.read_csv('../data/phishing_email.csv')\n",
    "\n",
    "print(\"Tải dữ liệu thành công!\")\n",
    "df.info()"
   ]
  },
  {
   "cell_type": "code",
   "execution_count": 6,
   "id": "22d8f8fd-a03d-4387-8a8a-1e0b2267a85d",
   "metadata": {},
   "outputs": [
    {
     "name": "stdout",
     "output_type": "stream",
     "text": [
      "Số dòng bị thiếu dữ liệu trước khi xử lý: 0\n",
      "Đã xóa các dòng bị thiếu dữ liệu (nếu có).\n",
      "\n",
      "Số dòng bị trùng lặp trước khi xử lý: 408\n",
      "Đã xóa các dòng bị trùng lặp.\n",
      "Số dòng còn lại sau khi làm sạch: 82078\n",
      "\n",
      "Bắt đầu tiền xử lý văn bản...\n",
      "Tiền xử lý văn bản hoàn tất!\n",
      "\n",
      "--- VÍ DỤ TIỀN XỬ LÝ ---\n",
      "Văn bản gốc:\n",
      " hpl nom may 25 2001 see attached file hplno 525 xls hplno 525 xls\n",
      "\n",
      "Văn bản đã làm sạch:\n",
      " hpl nom may see attached file hplno xls hplno xls\n"
     ]
    }
   ],
   "source": [
    "# --- 1.1: Xử lý các giá trị bị thiếu (Missing Values) ---\n",
    "# Kiểm tra xem có dòng nào bị thiếu dữ liệu không\n",
    "print(f\"Số dòng bị thiếu dữ liệu trước khi xử lý: {df.isnull().sum().sum()}\")\n",
    "df.dropna(inplace=True) # Xóa tất cả các dòng có giá trị thiếu\n",
    "print(\"Đã xóa các dòng bị thiếu dữ liệu (nếu có).\")\n",
    "\n",
    "\n",
    "# --- 1.2: Loại bỏ dữ liệu trùng lặp (Duplicates) ---\n",
    "# Kiểm tra xem có bao nhiêu dòng bị trùng lặp hoàn toàn\n",
    "print(f\"\\nSố dòng bị trùng lặp trước khi xử lý: {df.duplicated().sum()}\")\n",
    "df.drop_duplicates(inplace=True) # Xóa các dòng bị trùng lặp\n",
    "print(\"Đã xóa các dòng bị trùng lặp.\")\n",
    "print(f\"Số dòng còn lại sau khi làm sạch: {len(df)}\")\n",
    "\n",
    "\n",
    "# --- 1.3: Tiền xử lý văn bản (Text Preprocessing) ---\n",
    "# Chúng ta sẽ viết một hàm để làm sạch văn bản\n",
    "def preprocess_text(text):\n",
    "    # Chuyển thành chữ thường\n",
    "    text = text.lower()\n",
    "    # Loại bỏ các ký tự đặc biệt, dấu câu\n",
    "    text = re.sub(f'[{re.escape(string.punctuation)}]', '', text)\n",
    "    # Loại bỏ các số (thường không mang nhiều ý nghĩa trong phishing)\n",
    "    text = re.sub(r'\\d+', '', text)\n",
    "    # Loại bỏ khoảng trắng thừa\n",
    "    text = ' '.join(text.split())\n",
    "    return text\n",
    "\n",
    "print(\"\\nBắt đầu tiền xử lý văn bản...\")\n",
    "# Áp dụng hàm này cho toàn bộ cột 'text_combined'\n",
    "df['clean_text'] = df['text_combined'].apply(preprocess_text)\n",
    "print(\"Tiền xử lý văn bản hoàn tất!\")\n",
    "\n",
    "# In ra để so sánh văn bản gốc và văn bản đã làm sạch\n",
    "print(\"\\n--- VÍ DỤ TIỀN XỬ LÝ ---\")\n",
    "print(\"Văn bản gốc:\\n\", df['text_combined'].iloc[0][:300])\n",
    "print(\"\\nVăn bản đã làm sạch:\\n\", df['clean_text'].iloc[0][:300])"
   ]
  },
  {
   "cell_type": "code",
   "execution_count": 7,
   "id": "6c22f3ff-c176-4b8e-a330-6f8a0ac767e8",
   "metadata": {},
   "outputs": [
    {
     "name": "stdout",
     "output_type": "stream",
     "text": [
      "Đã chia dữ liệu thành các bộ train và test:\n",
      "Số lượng mẫu trong tập huấn luyện (train): 65662\n",
      "Số lượng mẫu trong tập kiểm thử (test): 16416\n"
     ]
    }
   ],
   "source": [
    "from sklearn.model_selection import train_test_split\n",
    "\n",
    "# Bây giờ chúng ta sẽ dùng cột 'clean_text' đã được làm sạch\n",
    "X = df['clean_text']\n",
    "y = df['label']\n",
    "\n",
    "# Chia dữ liệu thành 2 bộ: 80% để huấn luyện, 20% để kiểm thử\n",
    "# test_size=0.2 có nghĩa là 20% cho tập test\n",
    "# random_state=42 để đảm bảo mỗi lần chạy, kết quả chia đều giống nhau, giúp dễ dàng tái tạo thí nghiệm\n",
    "X_train, X_test, y_train, y_test = train_test_split(X, y, test_size=0.2, random_state=42)\n",
    "\n",
    "print(\"Đã chia dữ liệu thành các bộ train và test:\")\n",
    "print(f\"Số lượng mẫu trong tập huấn luyện (train): {len(X_train)}\")\n",
    "print(f\"Số lượng mẫu trong tập kiểm thử (test): {len(X_test)}\")"
   ]
  },
  {
   "cell_type": "code",
   "execution_count": 8,
   "id": "0e07d2c4-ec3d-43b8-a3f9-8906c257ecd9",
   "metadata": {},
   "outputs": [
    {
     "name": "stdout",
     "output_type": "stream",
     "text": [
      "\n",
      "Đã hoàn tất việc số hóa văn bản!\n",
      "Bắt đầu huấn luyện...\n",
      "Huấn luyện hoàn tất!\n",
      "\n",
      "--- KẾT QUẢ ĐÁNH GIÁ CUỐI CÙNG ---\n",
      "                    precision    recall  f1-score   support\n",
      "\n",
      "    Safe Email (0)       0.99      0.98      0.99      7910\n",
      "Phishing Email (1)       0.99      0.99      0.99      8506\n",
      "\n",
      "          accuracy                           0.99     16416\n",
      "         macro avg       0.99      0.99      0.99     16416\n",
      "      weighted avg       0.99      0.99      0.99     16416\n",
      "\n"
     ]
    }
   ],
   "source": [
    "from sklearn.feature_extraction.text import TfidfVectorizer\n",
    "from sklearn.linear_model import LogisticRegression\n",
    "from sklearn.metrics import classification_report\n",
    "\n",
    "# --- 3. \"Số hóa\" văn bản (Vectorization) ---\n",
    "tfidf_vectorizer = TfidfVectorizer()\n",
    "X_train_tfidf = tfidf_vectorizer.fit_transform(X_train)\n",
    "X_test_tfidf = tfidf_vectorizer.transform(X_test)\n",
    "\n",
    "print(\"\\nĐã hoàn tất việc số hóa văn bản!\")\n",
    "\n",
    "# --- 4. Huấn luyện và Đánh giá ---\n",
    "model = LogisticRegression(max_iter=1000)\n",
    "\n",
    "print(\"Bắt đầu huấn luyện...\")\n",
    "model.fit(X_train_tfidf, y_train)\n",
    "print(\"Huấn luyện hoàn tất!\")\n",
    "\n",
    "predictions = model.predict(X_test_tfidf)\n",
    "\n",
    "print(\"\\n--- KẾT QUẢ ĐÁNH GIÁ CUỐI CÙNG ---\")\n",
    "print(classification_report(y_test, predictions, target_names=['Safe Email (0)', 'Phishing Email (1)']))"
   ]
  },
  {
   "cell_type": "code",
   "execution_count": null,
   "id": "5bc1e2f9-e7a2-4c46-81f3-edc5354604d1",
   "metadata": {},
   "outputs": [],
   "source": []
  }
 ],
 "metadata": {
  "kernelspec": {
   "display_name": "Python 3 (ipykernel)",
   "language": "python",
   "name": "python3"
  },
  "language_info": {
   "codemirror_mode": {
    "name": "ipython",
    "version": 3
   },
   "file_extension": ".py",
   "mimetype": "text/x-python",
   "name": "python",
   "nbconvert_exporter": "python",
   "pygments_lexer": "ipython3",
   "version": "3.11.9"
  }
 },
 "nbformat": 4,
 "nbformat_minor": 5
}
